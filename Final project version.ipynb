{
 "cells": [
  {
   "cell_type": "code",
   "execution_count": 23,
   "metadata": {},
   "outputs": [],
   "source": [
    "import pandas as pd\n",
    "import numpy as np\n",
    "import matplotlib as plt\n",
    "df = pd.read_csv('imdbTop250.csv')\n",
    "\n",
    "df.drop(columns=['IMDBlink', 'Score', 'Cast1', 'Cast2', 'Cast3', 'Cast4'], inplace=True)\n",
    "df.drop_duplicates (inplace=True)\n",
    "df.rename(columns={'IMDByear': 'IMDB 250', 'Date' : 'Released'}, inplace=True)\n",
    "#movies['Votes'] = movies['Votes'].str.replace(',', '').astype(int)\n",
    "#movies.head(3)\n",
    "#df.groupby('Gross').count()\n",
    "#df.groupby('Year').hist()\n",
    "#df.plot.bar(x='Gross')\n"
   ]
  },
  {
   "cell_type": "code",
   "execution_count": 24,
   "metadata": {},
   "outputs": [
    {
     "data": {
      "text/plain": [
       "732"
      ]
     },
     "execution_count": 24,
     "metadata": {},
     "output_type": "execute_result"
    }
   ],
   "source": [
    "df.Title.nunique() #different movies which entered to IMDB Top250 lists from 1996 to 2020"
   ]
  },
  {
   "cell_type": "code",
   "execution_count": 25,
   "metadata": {},
   "outputs": [
    {
     "name": "stdout",
     "output_type": "stream",
     "text": [
      "78\n"
     ]
    },
    {
     "data": {
      "text/plain": [
       "['Star Wars',\n",
       " 'The Shawshank Redemption',\n",
       " 'Trainspotting',\n",
       " 'The Usual Suspects',\n",
       " 'Casablanca',\n",
       " 'Blade Runner',\n",
       " \"Schindler's List\",\n",
       " 'Citizen Kane',\n",
       " 'Pulp Fiction',\n",
       " 'Dr. Strangelove or: How I Learned to Stop Worrying and Love the Bomb']"
      ]
     },
     "execution_count": 25,
     "metadata": {},
     "output_type": "execute_result"
    }
   ],
   "source": [
    "all_time = []\n",
    "movies = df.Title.unique().tolist()\n",
    "\n",
    "for mov in movies:\n",
    "    if df[df.Title == mov].shape[0] == 25:\n",
    "        all_time.append(mov)\n",
    "\n",
    "print(len(all_time))\n",
    "all_time[:10] #Movies that are always in the IMDB Top250 lists from 1996 to 2020"
   ]
  },
  {
   "cell_type": "code",
   "execution_count": 26,
   "metadata": {},
   "outputs": [
    {
     "name": "stdout",
     "output_type": "stream",
     "text": [
      "187\n"
     ]
    },
    {
     "data": {
      "text/plain": [
       "['The Lord of the Rings: The Fellowship of the Ring',\n",
       " 'American Beauty',\n",
       " 'Trainspotting',\n",
       " 'The Lord of the Rings: The Return of the King',\n",
       " 'The Dark Knight',\n",
       " 'Saving Private Ryan',\n",
       " 'Inception',\n",
       " 'Star Trek: First Contact',\n",
       " 'The Lord of the Rings: The Two Towers',\n",
       " 'Titanic']"
      ]
     },
     "execution_count": 26,
     "metadata": {},
     "output_type": "execute_result"
    }
   ],
   "source": [
    "vis = df[df['IMDB 250'] == df['Released']].sort_values('Ranking')\n",
    "print(len(vis.Title.tolist()))\n",
    "\n",
    "vis.Title.tolist()[:10] #Movies that are come out and entered the list same year"
   ]
  },
  {
   "cell_type": "code",
   "execution_count": 27,
   "metadata": {},
   "outputs": [
    {
     "data": {
      "text/plain": [
       "8"
      ]
     },
     "execution_count": 27,
     "metadata": {},
     "output_type": "execute_result"
    }
   ],
   "source": [
    "direc = []\n",
    "directors = df.Director.unique().tolist()\n",
    "\n",
    "for director in directors:\n",
    "    temp = df[df.Director == director].groupby('IMDB 250').Title.count()\n",
    "    if temp[temp >= 3].shape[0] == 25:\n",
    "        direc.append(director)\n",
    "len(direc)\n",
    "\n",
    "\n",
    "#Directors who have 3 or more movies in the IMDB Top 250 Lists From 1996 to 2020"
   ]
  },
  {
   "cell_type": "code",
   "execution_count": 28,
   "metadata": {},
   "outputs": [
    {
     "data": {
      "text/plain": [
       "['Steven Spielberg',\n",
       " 'Stanley Kubrick',\n",
       " 'Francis Ford Coppola',\n",
       " 'Akira Kurosawa',\n",
       " 'Alfred Hitchcock',\n",
       " 'Sergio Leone',\n",
       " 'Martin Scorsese',\n",
       " 'Charles Chaplin']"
      ]
     },
     "execution_count": 28,
     "metadata": {},
     "output_type": "execute_result"
    }
   ],
   "source": [
    "direc"
   ]
  },
  {
   "cell_type": "code",
   "execution_count": 29,
   "metadata": {},
   "outputs": [
    {
     "data": {
      "text/html": [
       "<div>\n",
       "<style scoped>\n",
       "    .dataframe tbody tr th:only-of-type {\n",
       "        vertical-align: middle;\n",
       "    }\n",
       "\n",
       "    .dataframe tbody tr th {\n",
       "        vertical-align: top;\n",
       "    }\n",
       "\n",
       "    .dataframe thead th {\n",
       "        text-align: right;\n",
       "    }\n",
       "</style>\n",
       "<table border=\"1\" class=\"dataframe\">\n",
       "  <thead>\n",
       "    <tr style=\"text-align: right;\">\n",
       "      <th></th>\n",
       "      <th>Director</th>\n",
       "      <th>Number of Movies</th>\n",
       "      <th>Movies</th>\n",
       "    </tr>\n",
       "  </thead>\n",
       "  <tbody>\n",
       "    <tr>\n",
       "      <th>34</th>\n",
       "      <td>Alfred Hitchcock</td>\n",
       "      <td>13</td>\n",
       "      <td>['Rear Window' 'North by Northwest' 'Vertigo' ...</td>\n",
       "    </tr>\n",
       "    <tr>\n",
       "      <th>11</th>\n",
       "      <td>Stanley Kubrick</td>\n",
       "      <td>10</td>\n",
       "      <td>['Dr. Strangelove or: How I Learned to Stop Wo...</td>\n",
       "    </tr>\n",
       "    <tr>\n",
       "      <th>8</th>\n",
       "      <td>Steven Spielberg</td>\n",
       "      <td>10</td>\n",
       "      <td>[\"Schindler's List\" 'Raiders of the Lost Ark'\\...</td>\n",
       "    </tr>\n",
       "    <tr>\n",
       "      <th>71</th>\n",
       "      <td>Billy Wilder</td>\n",
       "      <td>9</td>\n",
       "      <td>['Sunset Blvd.' 'Some Like It Hot' 'Sabrina' '...</td>\n",
       "    </tr>\n",
       "    <tr>\n",
       "      <th>49</th>\n",
       "      <td>Martin Scorsese</td>\n",
       "      <td>9</td>\n",
       "      <td>['Goodfellas' 'Taxi Driver' 'Raging Bull' 'Cas...</td>\n",
       "    </tr>\n",
       "    <tr>\n",
       "      <th>274</th>\n",
       "      <td>Christopher Nolan</td>\n",
       "      <td>8</td>\n",
       "      <td>['Memento' 'Batman Begins' 'The Prestige' 'The...</td>\n",
       "    </tr>\n",
       "    <tr>\n",
       "      <th>23</th>\n",
       "      <td>Akira Kurosawa</td>\n",
       "      <td>8</td>\n",
       "      <td>['Shichinin no samurai' 'Ran' 'Rashomon' 'Yoji...</td>\n",
       "    </tr>\n",
       "    <tr>\n",
       "      <th>94</th>\n",
       "      <td>Peter Jackson</td>\n",
       "      <td>8</td>\n",
       "      <td>['Braindead' 'Heavenly Creatures' 'Bad Taste'\\...</td>\n",
       "    </tr>\n",
       "    <tr>\n",
       "      <th>238</th>\n",
       "      <td>Hayao Miyazaki</td>\n",
       "      <td>6</td>\n",
       "      <td>['Mononoke-hime' 'Sen to Chihiro no kamikakush...</td>\n",
       "    </tr>\n",
       "    <tr>\n",
       "      <th>35</th>\n",
       "      <td>David Fincher</td>\n",
       "      <td>6</td>\n",
       "      <td>['Se7en' 'The Game' 'Fight Club' 'The Curious ...</td>\n",
       "    </tr>\n",
       "  </tbody>\n",
       "</table>\n",
       "</div>"
      ],
      "text/plain": [
       "              Director  Number of Movies  \\\n",
       "34    Alfred Hitchcock                13   \n",
       "11     Stanley Kubrick                10   \n",
       "8     Steven Spielberg                10   \n",
       "71        Billy Wilder                 9   \n",
       "49     Martin Scorsese                 9   \n",
       "274  Christopher Nolan                 8   \n",
       "23      Akira Kurosawa                 8   \n",
       "94       Peter Jackson                 8   \n",
       "238     Hayao Miyazaki                 6   \n",
       "35       David Fincher                 6   \n",
       "\n",
       "                                                Movies  \n",
       "34   ['Rear Window' 'North by Northwest' 'Vertigo' ...  \n",
       "11   ['Dr. Strangelove or: How I Learned to Stop Wo...  \n",
       "8    [\"Schindler's List\" 'Raiders of the Lost Ark'\\...  \n",
       "71   ['Sunset Blvd.' 'Some Like It Hot' 'Sabrina' '...  \n",
       "49   ['Goodfellas' 'Taxi Driver' 'Raging Bull' 'Cas...  \n",
       "274  ['Memento' 'Batman Begins' 'The Prestige' 'The...  \n",
       "23   ['Shichinin no samurai' 'Ran' 'Rashomon' 'Yoji...  \n",
       "94   ['Braindead' 'Heavenly Creatures' 'Bad Taste'\\...  \n",
       "238  ['Mononoke-hime' 'Sen to Chihiro no kamikakush...  \n",
       "35   ['Se7en' 'The Game' 'Fight Club' 'The Curious ...  "
      ]
     },
     "execution_count": 29,
     "metadata": {},
     "output_type": "execute_result"
    }
   ],
   "source": [
    "num_movies, title_movies = [], []\n",
    "for director in directors:\n",
    "    \n",
    "    temp = df[df.Director == director]\n",
    "    num_movies.append(temp.Title.nunique())\n",
    "    title_movies.append(str(temp.Title.unique()))\n",
    "    \n",
    "director_movies = pd.DataFrame({\"Director\": directors, \"Number of Movies\": num_movies, \"Movies\": title_movies})\n",
    "\n",
    "#director_movies[\"Movies\"] = director_movies[\"Movies\"].str.replace(\"[\", \"\").str.replace(\"]\", \"\").str.replace(\"\\n\", \"\")\n",
    "#director_movies['Movies'] = [''.join(map(str, l)) for l in director_movies['Movies']]\n",
    "\n",
    "director_movies = director_movies.sort_values(\"Number of Movies\", ascending = False)\n",
    "director_movies.head(10)"
   ]
  },
  {
   "cell_type": "code",
   "execution_count": 30,
   "metadata": {},
   "outputs": [
    {
     "name": "stdout",
     "output_type": "stream",
     "text": [
      "78\n"
     ]
    },
    {
     "data": {
      "text/plain": [
       "['Star Wars',\n",
       " 'The Shawshank Redemption',\n",
       " 'Trainspotting',\n",
       " 'The Usual Suspects',\n",
       " 'Casablanca',\n",
       " 'Blade Runner',\n",
       " \"Schindler's List\",\n",
       " 'Citizen Kane',\n",
       " 'Pulp Fiction',\n",
       " 'Dr. Strangelove or: How I Learned to Stop Worrying and Love the Bomb']"
      ]
     },
     "execution_count": 30,
     "metadata": {},
     "output_type": "execute_result"
    }
   ],
   "source": [
    "print(len(all_time))\n",
    "all_time[:10]"
   ]
  },
  {
   "cell_type": "code",
   "execution_count": 32,
   "metadata": {},
   "outputs": [
    {
     "ename": "AttributeError",
     "evalue": "module 'matplotlib' has no attribute 'figure'",
     "output_type": "error",
     "traceback": [
      "\u001b[1;31m---------------------------------------------------------------------------\u001b[0m",
      "\u001b[1;31mAttributeError\u001b[0m                            Traceback (most recent call last)",
      "\u001b[1;32m~\\AppData\\Local\\Temp/ipykernel_25544/39345379.py\u001b[0m in \u001b[0;36m<module>\u001b[1;34m\u001b[0m\n\u001b[1;32m----> 1\u001b[1;33m \u001b[0mplt\u001b[0m\u001b[1;33m.\u001b[0m\u001b[0mfigure\u001b[0m\u001b[1;33m(\u001b[0m\u001b[0mfigsize\u001b[0m \u001b[1;33m=\u001b[0m \u001b[1;33m(\u001b[0m\u001b[1;36m10\u001b[0m\u001b[1;33m,\u001b[0m \u001b[1;36m6\u001b[0m\u001b[1;33m)\u001b[0m\u001b[1;33m)\u001b[0m\u001b[1;33m\u001b[0m\u001b[1;33m\u001b[0m\u001b[0m\n\u001b[0m\u001b[0;32m      2\u001b[0m \u001b[0mplt\u001b[0m\u001b[1;33m.\u001b[0m\u001b[0mplot\u001b[0m\u001b[1;33m(\u001b[0m\u001b[0mdf\u001b[0m\u001b[1;33m.\u001b[0m\u001b[0mgroupby\u001b[0m\u001b[1;33m(\u001b[0m\u001b[1;33m[\u001b[0m\u001b[1;34m'Released'\u001b[0m\u001b[1;33m]\u001b[0m\u001b[1;33m)\u001b[0m\u001b[1;33m[\u001b[0m\u001b[1;34m'Title'\u001b[0m\u001b[1;33m]\u001b[0m\u001b[1;33m.\u001b[0m\u001b[0mnunique\u001b[0m\u001b[1;33m(\u001b[0m\u001b[1;33m)\u001b[0m\u001b[1;33m)\u001b[0m\u001b[1;33m\u001b[0m\u001b[1;33m\u001b[0m\u001b[0m\n\u001b[0;32m      3\u001b[0m \u001b[0mplt\u001b[0m\u001b[1;33m.\u001b[0m\u001b[0mxticks\u001b[0m\u001b[1;33m(\u001b[0m\u001b[0mrotation\u001b[0m \u001b[1;33m=\u001b[0m \u001b[1;36m90\u001b[0m\u001b[1;33m)\u001b[0m\u001b[1;33m\u001b[0m\u001b[1;33m\u001b[0m\u001b[0m\n\u001b[0;32m      4\u001b[0m \u001b[0mplt\u001b[0m\u001b[1;33m.\u001b[0m\u001b[0mxlabel\u001b[0m\u001b[1;33m(\u001b[0m\u001b[1;34m'Years'\u001b[0m\u001b[1;33m)\u001b[0m\u001b[1;33m\u001b[0m\u001b[1;33m\u001b[0m\u001b[0m\n\u001b[0;32m      5\u001b[0m \u001b[0mplt\u001b[0m\u001b[1;33m.\u001b[0m\u001b[0mylabel\u001b[0m\u001b[1;33m(\u001b[0m\u001b[1;34m'Number of Movies'\u001b[0m\u001b[1;33m)\u001b[0m\u001b[1;33m\u001b[0m\u001b[1;33m\u001b[0m\u001b[0m\n",
      "\u001b[1;32m~\\AppData\\Local\\Programs\\Python\\Python39\\lib\\site-packages\\matplotlib\\_api\\__init__.py\u001b[0m in \u001b[0;36m__getattr__\u001b[1;34m(name)\u001b[0m\n\u001b[0;32m    220\u001b[0m         \u001b[1;32mif\u001b[0m \u001b[0mname\u001b[0m \u001b[1;32min\u001b[0m \u001b[0mprops\u001b[0m\u001b[1;33m:\u001b[0m\u001b[1;33m\u001b[0m\u001b[1;33m\u001b[0m\u001b[0m\n\u001b[0;32m    221\u001b[0m             \u001b[1;32mreturn\u001b[0m \u001b[0mprops\u001b[0m\u001b[1;33m[\u001b[0m\u001b[0mname\u001b[0m\u001b[1;33m]\u001b[0m\u001b[1;33m.\u001b[0m\u001b[0m__get__\u001b[0m\u001b[1;33m(\u001b[0m\u001b[0minstance\u001b[0m\u001b[1;33m)\u001b[0m\u001b[1;33m\u001b[0m\u001b[1;33m\u001b[0m\u001b[0m\n\u001b[1;32m--> 222\u001b[1;33m         raise AttributeError(\n\u001b[0m\u001b[0;32m    223\u001b[0m             f\"module {cls.__module__!r} has no attribute {name!r}\")\n\u001b[0;32m    224\u001b[0m \u001b[1;33m\u001b[0m\u001b[0m\n",
      "\u001b[1;31mAttributeError\u001b[0m: module 'matplotlib' has no attribute 'figure'"
     ]
    }
   ],
   "source": [
    "plt.figure(figsize = (10, 6))\n",
    "plt.plot(df.groupby(['Released'])['Title'].nunique())\n",
    "plt.xticks(rotation = 90)\n",
    "plt.xlabel('Years')\n",
    "plt.ylabel('Number of Movies')\n",
    "plt.title(\"Number of Movies by Release Year  \\n (for the movies that are in the list from 1996 to 2020)\")\n",
    "plt.show()"
   ]
  },
  {
   "cell_type": "code",
   "execution_count": null,
   "metadata": {},
   "outputs": [],
   "source": [
    "#ranks, differences = [], []\n",
    "\n",
    "#for movie in all_time:\n",
    "    \n",
    "    #temp = df[df.Title == movie]\n",
    "    #difference = temp.Ranking.iloc[0] - temp.Ranking.iloc[-1]\n",
    "    #differences.append(difference)\n",
    "\n",
    "#changes = pd.DataFrame({\"Movie\": all_time, \"Change\": differences}).sort_values(\"Movie\")\n",
    "#changes"
   ]
  },
  {
   "cell_type": "code",
   "execution_count": null,
   "metadata": {},
   "outputs": [
    {
     "name": "stdout",
     "output_type": "stream",
     "text": [
      "      Ranking  IMDB 250                     Title  Released  RunTime  \\\n",
      "0           1      1996                 Star Wars      1977      121   \n",
      "1           2      1996  The Shawshank Redemption      1994      142   \n",
      "2           3      1996             Trainspotting      1996       93   \n",
      "3           4      1996        The Usual Suspects      1995      106   \n",
      "4           5      1996        The Wrong Trousers      1993       30   \n",
      "...       ...       ...                       ...       ...      ...   \n",
      "6245      246      2020                  The Help      2011      146   \n",
      "6246      247      2020        The Princess Bride      1987       98   \n",
      "6247      248      2020    La battaglia di Algeri      1966      121   \n",
      "6248      249      2020               Mandariinid      2013       87   \n",
      "6249      250      2020                Kis Uykusu      2014      196   \n",
      "\n",
      "                           Genre  Rating    Votes   Gross           Director  \n",
      "0     Action, Adventure, Fantasy     8.6  1254781  322.74       George Lucas  \n",
      "1                          Drama     9.3  2407245   28.34     Frank Darabont  \n",
      "2                          Drama     8.1   645186   16.50        Danny Boyle  \n",
      "3       Crime, Mystery, Thriller     8.5  1010775   23.34       Bryan Singer  \n",
      "4       Animation, Short, Comedy     8.3    51747     NaN          Nick Park  \n",
      "...                          ...     ...      ...     ...                ...  \n",
      "6245                       Drama     8.0   434956  169.71        Tate Taylor  \n",
      "6246  Adventure, Family, Fantasy     8.1   400081   30.86         Rob Reiner  \n",
      "6247                  Drama, War     8.1    54799    0.06   Gillo Pontecorvo  \n",
      "6248                  Drama, War     8.2    42748    0.14     Zaza Urushadze  \n",
      "6249                       Drama     8.1    48191    0.17  Nuri Bilge Ceylan  \n",
      "\n",
      "[6250 rows x 10 columns]\n"
     ]
    }
   ],
   "source": [
    "df.sort_values(by=['Rating'], ascending=False)\n",
    "#pd.set_option('display.max_rows', 20)\n",
    "print(df)"
   ]
  },
  {
   "cell_type": "code",
   "execution_count": null,
   "metadata": {},
   "outputs": [],
   "source": []
  },
  {
   "cell_type": "code",
   "execution_count": null,
   "metadata": {},
   "outputs": [
    {
     "data": {
      "text/html": [
       "<div>\n",
       "<style scoped>\n",
       "    .dataframe tbody tr th:only-of-type {\n",
       "        vertical-align: middle;\n",
       "    }\n",
       "\n",
       "    .dataframe tbody tr th {\n",
       "        vertical-align: top;\n",
       "    }\n",
       "\n",
       "    .dataframe thead th {\n",
       "        text-align: right;\n",
       "    }\n",
       "</style>\n",
       "<table border=\"1\" class=\"dataframe\">\n",
       "  <thead>\n",
       "    <tr style=\"text-align: right;\">\n",
       "      <th></th>\n",
       "      <th>Ranking</th>\n",
       "      <th>IMDB 250</th>\n",
       "      <th>Title</th>\n",
       "      <th>Released</th>\n",
       "      <th>RunTime</th>\n",
       "      <th>Genre</th>\n",
       "      <th>Rating</th>\n",
       "      <th>Votes</th>\n",
       "      <th>Gross</th>\n",
       "      <th>Director</th>\n",
       "    </tr>\n",
       "  </thead>\n",
       "  <tbody>\n",
       "    <tr>\n",
       "      <th>0</th>\n",
       "      <td>1</td>\n",
       "      <td>1996</td>\n",
       "      <td>Star Wars</td>\n",
       "      <td>1977</td>\n",
       "      <td>121</td>\n",
       "      <td>Action, Adventure, Fantasy</td>\n",
       "      <td>8.6</td>\n",
       "      <td>1254781</td>\n",
       "      <td>322.74</td>\n",
       "      <td>George Lucas</td>\n",
       "    </tr>\n",
       "    <tr>\n",
       "      <th>1</th>\n",
       "      <td>2</td>\n",
       "      <td>1996</td>\n",
       "      <td>The Shawshank Redemption</td>\n",
       "      <td>1994</td>\n",
       "      <td>142</td>\n",
       "      <td>Drama</td>\n",
       "      <td>9.3</td>\n",
       "      <td>2407245</td>\n",
       "      <td>28.34</td>\n",
       "      <td>Frank Darabont</td>\n",
       "    </tr>\n",
       "    <tr>\n",
       "      <th>2</th>\n",
       "      <td>3</td>\n",
       "      <td>1996</td>\n",
       "      <td>Trainspotting</td>\n",
       "      <td>1996</td>\n",
       "      <td>93</td>\n",
       "      <td>Drama</td>\n",
       "      <td>8.1</td>\n",
       "      <td>645186</td>\n",
       "      <td>16.50</td>\n",
       "      <td>Danny Boyle</td>\n",
       "    </tr>\n",
       "    <tr>\n",
       "      <th>3</th>\n",
       "      <td>4</td>\n",
       "      <td>1996</td>\n",
       "      <td>The Usual Suspects</td>\n",
       "      <td>1995</td>\n",
       "      <td>106</td>\n",
       "      <td>Crime, Mystery, Thriller</td>\n",
       "      <td>8.5</td>\n",
       "      <td>1010775</td>\n",
       "      <td>23.34</td>\n",
       "      <td>Bryan Singer</td>\n",
       "    </tr>\n",
       "    <tr>\n",
       "      <th>4</th>\n",
       "      <td>5</td>\n",
       "      <td>1996</td>\n",
       "      <td>The Wrong Trousers</td>\n",
       "      <td>1993</td>\n",
       "      <td>30</td>\n",
       "      <td>Animation, Short, Comedy</td>\n",
       "      <td>8.3</td>\n",
       "      <td>51747</td>\n",
       "      <td>NaN</td>\n",
       "      <td>Nick Park</td>\n",
       "    </tr>\n",
       "    <tr>\n",
       "      <th>...</th>\n",
       "      <td>...</td>\n",
       "      <td>...</td>\n",
       "      <td>...</td>\n",
       "      <td>...</td>\n",
       "      <td>...</td>\n",
       "      <td>...</td>\n",
       "      <td>...</td>\n",
       "      <td>...</td>\n",
       "      <td>...</td>\n",
       "      <td>...</td>\n",
       "    </tr>\n",
       "    <tr>\n",
       "      <th>6245</th>\n",
       "      <td>246</td>\n",
       "      <td>2020</td>\n",
       "      <td>The Help</td>\n",
       "      <td>2011</td>\n",
       "      <td>146</td>\n",
       "      <td>Drama</td>\n",
       "      <td>8.0</td>\n",
       "      <td>434956</td>\n",
       "      <td>169.71</td>\n",
       "      <td>Tate Taylor</td>\n",
       "    </tr>\n",
       "    <tr>\n",
       "      <th>6246</th>\n",
       "      <td>247</td>\n",
       "      <td>2020</td>\n",
       "      <td>The Princess Bride</td>\n",
       "      <td>1987</td>\n",
       "      <td>98</td>\n",
       "      <td>Adventure, Family, Fantasy</td>\n",
       "      <td>8.1</td>\n",
       "      <td>400081</td>\n",
       "      <td>30.86</td>\n",
       "      <td>Rob Reiner</td>\n",
       "    </tr>\n",
       "    <tr>\n",
       "      <th>6247</th>\n",
       "      <td>248</td>\n",
       "      <td>2020</td>\n",
       "      <td>La battaglia di Algeri</td>\n",
       "      <td>1966</td>\n",
       "      <td>121</td>\n",
       "      <td>Drama, War</td>\n",
       "      <td>8.1</td>\n",
       "      <td>54799</td>\n",
       "      <td>0.06</td>\n",
       "      <td>Gillo Pontecorvo</td>\n",
       "    </tr>\n",
       "    <tr>\n",
       "      <th>6248</th>\n",
       "      <td>249</td>\n",
       "      <td>2020</td>\n",
       "      <td>Mandariinid</td>\n",
       "      <td>2013</td>\n",
       "      <td>87</td>\n",
       "      <td>Drama, War</td>\n",
       "      <td>8.2</td>\n",
       "      <td>42748</td>\n",
       "      <td>0.14</td>\n",
       "      <td>Zaza Urushadze</td>\n",
       "    </tr>\n",
       "    <tr>\n",
       "      <th>6249</th>\n",
       "      <td>250</td>\n",
       "      <td>2020</td>\n",
       "      <td>Kis Uykusu</td>\n",
       "      <td>2014</td>\n",
       "      <td>196</td>\n",
       "      <td>Drama</td>\n",
       "      <td>8.1</td>\n",
       "      <td>48191</td>\n",
       "      <td>0.17</td>\n",
       "      <td>Nuri Bilge Ceylan</td>\n",
       "    </tr>\n",
       "  </tbody>\n",
       "</table>\n",
       "<p>6250 rows × 10 columns</p>\n",
       "</div>"
      ],
      "text/plain": [
       "      Ranking  IMDB 250                     Title  Released  RunTime  \\\n",
       "0           1      1996                 Star Wars      1977      121   \n",
       "1           2      1996  The Shawshank Redemption      1994      142   \n",
       "2           3      1996             Trainspotting      1996       93   \n",
       "3           4      1996        The Usual Suspects      1995      106   \n",
       "4           5      1996        The Wrong Trousers      1993       30   \n",
       "...       ...       ...                       ...       ...      ...   \n",
       "6245      246      2020                  The Help      2011      146   \n",
       "6246      247      2020        The Princess Bride      1987       98   \n",
       "6247      248      2020    La battaglia di Algeri      1966      121   \n",
       "6248      249      2020               Mandariinid      2013       87   \n",
       "6249      250      2020                Kis Uykusu      2014      196   \n",
       "\n",
       "                           Genre  Rating    Votes   Gross           Director  \n",
       "0     Action, Adventure, Fantasy     8.6  1254781  322.74       George Lucas  \n",
       "1                          Drama     9.3  2407245   28.34     Frank Darabont  \n",
       "2                          Drama     8.1   645186   16.50        Danny Boyle  \n",
       "3       Crime, Mystery, Thriller     8.5  1010775   23.34       Bryan Singer  \n",
       "4       Animation, Short, Comedy     8.3    51747     NaN          Nick Park  \n",
       "...                          ...     ...      ...     ...                ...  \n",
       "6245                       Drama     8.0   434956  169.71        Tate Taylor  \n",
       "6246  Adventure, Family, Fantasy     8.1   400081   30.86         Rob Reiner  \n",
       "6247                  Drama, War     8.1    54799    0.06   Gillo Pontecorvo  \n",
       "6248                  Drama, War     8.2    42748    0.14     Zaza Urushadze  \n",
       "6249                       Drama     8.1    48191    0.17  Nuri Bilge Ceylan  \n",
       "\n",
       "[6250 rows x 10 columns]"
      ]
     },
     "execution_count": 22,
     "metadata": {},
     "output_type": "execute_result"
    }
   ],
   "source": [
    "df"
   ]
  }
 ],
 "metadata": {
  "interpreter": {
   "hash": "dd57822eb7192f164bb646334b80cfe333ecd35ee68aedf0c6c5cce73267653a"
  },
  "kernelspec": {
   "display_name": "Python 3.9.7 64-bit",
   "language": "python",
   "name": "python3"
  },
  "language_info": {
   "codemirror_mode": {
    "name": "ipython",
    "version": 3
   },
   "file_extension": ".py",
   "mimetype": "text/x-python",
   "name": "python",
   "nbconvert_exporter": "python",
   "pygments_lexer": "ipython3",
   "version": "3.9.7"
  },
  "orig_nbformat": 4
 },
 "nbformat": 4,
 "nbformat_minor": 2
}
