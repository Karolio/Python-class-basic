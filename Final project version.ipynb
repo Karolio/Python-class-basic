{
 "cells": [
  {
   "cell_type": "code",
   "execution_count": 53,
   "metadata": {},
   "outputs": [],
   "source": [
    "import pandas as pd\n",
    "import numpy as np\n",
    "import matplotlib.pyplot as plt\n",
    "df = pd.read_csv('imdbTop250.csv')\n",
    "\n",
    "df.drop(columns=['IMDBlink', 'Score', 'Cast1', 'Cast2', 'Cast3', 'Cast4'], inplace=True)\n",
    "df.drop_duplicates (inplace=True)\n",
    "df.rename(columns={'IMDByear': 'IMDB 250', 'Date' : 'Released'}, inplace=True)\n",
    "#movies['Votes'] = movies['Votes'].str.replace(',', '').astype(int)\n",
    "#movies.head(3)\n",
    "#df.groupby('Gross').count()\n",
    "#df.groupby('Year').hist()\n",
    "#df.plot.bar(x='Gross')\n"
   ]
  },
  {
   "cell_type": "code",
   "execution_count": 54,
   "metadata": {},
   "outputs": [
    {
     "data": {
      "text/plain": [
       "732"
      ]
     },
     "execution_count": 54,
     "metadata": {},
     "output_type": "execute_result"
    }
   ],
   "source": [
    "df.Title.nunique() #Different movies which entered to IMDB Top250 lists from 1996 to 2020"
   ]
  },
  {
   "cell_type": "code",
   "execution_count": 55,
   "metadata": {},
   "outputs": [
    {
     "name": "stdout",
     "output_type": "stream",
     "text": [
      "78\n"
     ]
    },
    {
     "data": {
      "text/plain": [
       "['Star Wars',\n",
       " 'The Shawshank Redemption',\n",
       " 'Trainspotting',\n",
       " 'The Usual Suspects',\n",
       " 'Casablanca',\n",
       " 'Blade Runner',\n",
       " \"Schindler's List\",\n",
       " 'Citizen Kane',\n",
       " 'Pulp Fiction',\n",
       " 'Dr. Strangelove or: How I Learned to Stop Worrying and Love the Bomb']"
      ]
     },
     "execution_count": 55,
     "metadata": {},
     "output_type": "execute_result"
    }
   ],
   "source": [
    "all_time = []\n",
    "movies = df.Title.unique().tolist()\n",
    "\n",
    "for mov in movies:\n",
    "    if df[df.Title == mov].shape[0] == 25:\n",
    "        all_time.append(mov)\n",
    "\n",
    "print(len(all_time))\n",
    "all_time[:10] #Movies that are always in the IMDB Top250 lists from 1996 to 2020"
   ]
  },
  {
   "cell_type": "code",
   "execution_count": 56,
   "metadata": {},
   "outputs": [
    {
     "name": "stdout",
     "output_type": "stream",
     "text": [
      "187\n"
     ]
    },
    {
     "data": {
      "text/plain": [
       "['The Lord of the Rings: The Fellowship of the Ring',\n",
       " 'American Beauty',\n",
       " 'Trainspotting',\n",
       " 'The Lord of the Rings: The Return of the King',\n",
       " 'The Dark Knight',\n",
       " 'Saving Private Ryan',\n",
       " 'Inception',\n",
       " 'Star Trek: First Contact',\n",
       " 'The Lord of the Rings: The Two Towers',\n",
       " 'Titanic']"
      ]
     },
     "execution_count": 56,
     "metadata": {},
     "output_type": "execute_result"
    }
   ],
   "source": [
    "vis = df[df['IMDB 250'] == df['Released']].sort_values('Ranking')\n",
    "print(len(vis.Title.tolist()))\n",
    "\n",
    "vis.Title.tolist()[:10] #Movies that are come out and entered the list same year"
   ]
  },
  {
   "cell_type": "code",
   "execution_count": 57,
   "metadata": {},
   "outputs": [
    {
     "data": {
      "text/plain": [
       "8"
      ]
     },
     "execution_count": 57,
     "metadata": {},
     "output_type": "execute_result"
    }
   ],
   "source": [
    "direc = []\n",
    "directors = df.Director.unique().tolist()\n",
    "\n",
    "for director in directors:\n",
    "    temp = df[df.Director == director].groupby('IMDB 250').Title.count()\n",
    "    if temp[temp >= 3].shape[0] == 25:\n",
    "        direc.append(director)\n",
    "len(direc)\n",
    "\n",
    "\n",
    "#Directors who have 3 or more movies in the IMDB Top 250 Lists From 1996 to 2020"
   ]
  },
  {
   "cell_type": "code",
   "execution_count": 58,
   "metadata": {},
   "outputs": [
    {
     "data": {
      "text/plain": [
       "['Steven Spielberg',\n",
       " 'Stanley Kubrick',\n",
       " 'Francis Ford Coppola',\n",
       " 'Akira Kurosawa',\n",
       " 'Alfred Hitchcock',\n",
       " 'Sergio Leone',\n",
       " 'Martin Scorsese',\n",
       " 'Charles Chaplin']"
      ]
     },
     "execution_count": 58,
     "metadata": {},
     "output_type": "execute_result"
    }
   ],
   "source": [
    "direc"
   ]
  },
  {
   "cell_type": "code",
   "execution_count": 59,
   "metadata": {},
   "outputs": [
    {
     "data": {
      "text/html": [
       "<div>\n",
       "<style scoped>\n",
       "    .dataframe tbody tr th:only-of-type {\n",
       "        vertical-align: middle;\n",
       "    }\n",
       "\n",
       "    .dataframe tbody tr th {\n",
       "        vertical-align: top;\n",
       "    }\n",
       "\n",
       "    .dataframe thead th {\n",
       "        text-align: right;\n",
       "    }\n",
       "</style>\n",
       "<table border=\"1\" class=\"dataframe\">\n",
       "  <thead>\n",
       "    <tr style=\"text-align: right;\">\n",
       "      <th></th>\n",
       "      <th>Director</th>\n",
       "      <th>Number of Movies</th>\n",
       "      <th>Movies</th>\n",
       "    </tr>\n",
       "  </thead>\n",
       "  <tbody>\n",
       "    <tr>\n",
       "      <th>34</th>\n",
       "      <td>Alfred Hitchcock</td>\n",
       "      <td>13</td>\n",
       "      <td>['Rear Window' 'North by Northwest' 'Vertigo' ...</td>\n",
       "    </tr>\n",
       "    <tr>\n",
       "      <th>11</th>\n",
       "      <td>Stanley Kubrick</td>\n",
       "      <td>10</td>\n",
       "      <td>['Dr. Strangelove or: How I Learned to Stop Wo...</td>\n",
       "    </tr>\n",
       "    <tr>\n",
       "      <th>8</th>\n",
       "      <td>Steven Spielberg</td>\n",
       "      <td>10</td>\n",
       "      <td>[\"Schindler's List\" 'Raiders of the Lost Ark'\\...</td>\n",
       "    </tr>\n",
       "    <tr>\n",
       "      <th>71</th>\n",
       "      <td>Billy Wilder</td>\n",
       "      <td>9</td>\n",
       "      <td>['Sunset Blvd.' 'Some Like It Hot' 'Sabrina' '...</td>\n",
       "    </tr>\n",
       "    <tr>\n",
       "      <th>49</th>\n",
       "      <td>Martin Scorsese</td>\n",
       "      <td>9</td>\n",
       "      <td>['Goodfellas' 'Taxi Driver' 'Raging Bull' 'Cas...</td>\n",
       "    </tr>\n",
       "    <tr>\n",
       "      <th>274</th>\n",
       "      <td>Christopher Nolan</td>\n",
       "      <td>8</td>\n",
       "      <td>['Memento' 'Batman Begins' 'The Prestige' 'The...</td>\n",
       "    </tr>\n",
       "    <tr>\n",
       "      <th>23</th>\n",
       "      <td>Akira Kurosawa</td>\n",
       "      <td>8</td>\n",
       "      <td>['Shichinin no samurai' 'Ran' 'Rashomon' 'Yoji...</td>\n",
       "    </tr>\n",
       "    <tr>\n",
       "      <th>94</th>\n",
       "      <td>Peter Jackson</td>\n",
       "      <td>8</td>\n",
       "      <td>['Braindead' 'Heavenly Creatures' 'Bad Taste'\\...</td>\n",
       "    </tr>\n",
       "    <tr>\n",
       "      <th>238</th>\n",
       "      <td>Hayao Miyazaki</td>\n",
       "      <td>6</td>\n",
       "      <td>['Mononoke-hime' 'Sen to Chihiro no kamikakush...</td>\n",
       "    </tr>\n",
       "    <tr>\n",
       "      <th>35</th>\n",
       "      <td>David Fincher</td>\n",
       "      <td>6</td>\n",
       "      <td>['Se7en' 'The Game' 'Fight Club' 'The Curious ...</td>\n",
       "    </tr>\n",
       "  </tbody>\n",
       "</table>\n",
       "</div>"
      ],
      "text/plain": [
       "              Director  Number of Movies  \\\n",
       "34    Alfred Hitchcock                13   \n",
       "11     Stanley Kubrick                10   \n",
       "8     Steven Spielberg                10   \n",
       "71        Billy Wilder                 9   \n",
       "49     Martin Scorsese                 9   \n",
       "274  Christopher Nolan                 8   \n",
       "23      Akira Kurosawa                 8   \n",
       "94       Peter Jackson                 8   \n",
       "238     Hayao Miyazaki                 6   \n",
       "35       David Fincher                 6   \n",
       "\n",
       "                                                Movies  \n",
       "34   ['Rear Window' 'North by Northwest' 'Vertigo' ...  \n",
       "11   ['Dr. Strangelove or: How I Learned to Stop Wo...  \n",
       "8    [\"Schindler's List\" 'Raiders of the Lost Ark'\\...  \n",
       "71   ['Sunset Blvd.' 'Some Like It Hot' 'Sabrina' '...  \n",
       "49   ['Goodfellas' 'Taxi Driver' 'Raging Bull' 'Cas...  \n",
       "274  ['Memento' 'Batman Begins' 'The Prestige' 'The...  \n",
       "23   ['Shichinin no samurai' 'Ran' 'Rashomon' 'Yoji...  \n",
       "94   ['Braindead' 'Heavenly Creatures' 'Bad Taste'\\...  \n",
       "238  ['Mononoke-hime' 'Sen to Chihiro no kamikakush...  \n",
       "35   ['Se7en' 'The Game' 'Fight Club' 'The Curious ...  "
      ]
     },
     "execution_count": 59,
     "metadata": {},
     "output_type": "execute_result"
    }
   ],
   "source": [
    "num_movies, title_movies = [], []\n",
    "for director in directors:\n",
    "    temp = df[df.Director == director]\n",
    "    num_movies.append(temp.Title.nunique())\n",
    "    title_movies.append(str(temp.Title.unique()))\n",
    "    \n",
    "director_movies = pd.DataFrame({\"Director\": directors, \"Number of Movies\": num_movies, \"Movies\": title_movies})\n",
    "\n",
    "#director_movies[\"Movies\"] = director_movies[\"Movies\"].str.replace(\"[\", \"\").str.replace(\"]\", \"\").str.replace(\"\\n\", \"\")\n",
    "#director_movies['Movies'] = [''.join(map(str, l)) for l in director_movies['Movies']]\n",
    "\n",
    "director_movies = director_movies.sort_values(\"Number of Movies\", ascending = False)\n",
    "director_movies.head(10)"
   ]
  },
  {
   "cell_type": "code",
   "execution_count": 60,
   "metadata": {},
   "outputs": [
    {
     "name": "stdout",
     "output_type": "stream",
     "text": [
      "78\n"
     ]
    },
    {
     "data": {
      "text/plain": [
       "['Star Wars',\n",
       " 'The Shawshank Redemption',\n",
       " 'Trainspotting',\n",
       " 'The Usual Suspects',\n",
       " 'Casablanca',\n",
       " 'Blade Runner',\n",
       " \"Schindler's List\",\n",
       " 'Citizen Kane',\n",
       " 'Pulp Fiction',\n",
       " 'Dr. Strangelove or: How I Learned to Stop Worrying and Love the Bomb']"
      ]
     },
     "execution_count": 60,
     "metadata": {},
     "output_type": "execute_result"
    }
   ],
   "source": [
    "print(len(all_time))\n",
    "all_time[:10]"
   ]
  },
  {
   "cell_type": "code",
   "execution_count": 61,
   "metadata": {},
   "outputs": [
    {
     "data": {
      "image/png": "[encoded data removed]",
      "text/plain": [
       "<Figure size 720x432 with 1 Axes>"
      ]
     },
     "metadata": {
      "needs_background": "light"
     },
     "output_type": "display_data"
    }
   ],
   "source": [
    "plt.figure(figsize = (10, 6))\n",
    "plt.plot(df.groupby(['Released'])['Title'].nunique())\n",
    "plt.xticks(rotation = 90)\n",
    "plt.xlabel('Years')\n",
    "plt.ylabel('Number of Movies')\n",
    "plt.title(\"Number of Movies by Release Year  \\n (for the movies that are in the list from 1996 to 2020)\")\n",
    "plt.show()"
   ]
  },
  {
   "cell_type": "code",
   "execution_count": 62,
   "metadata": {},
   "outputs": [],
   "source": [
    "#ranks, differences = [], []\n",
    "\n",
    "#for movie in all_time:\n",
    "    \n",
    "    #temp = df[df.Title == movie]\n",
    "    #difference = temp.Ranking.iloc[0] - temp.Ranking.iloc[-1]\n",
    "    #differences.append(difference)\n",
    "\n",
    "#changes = pd.DataFrame({\"Movie\": all_time, \"Change\": differences}).sort_values(\"Movie\")\n",
    "#changes"
   ]
  },
  {
   "cell_type": "code",
   "execution_count": 66,
   "metadata": {},
   "outputs": [
    {
     "name": "stdout",
     "output_type": "stream",
     "text": [
      "    Ranking  IMDB 250                                              Title  \\\n",
      "0         1      1996                                          Star Wars   \n",
      "1         2      1996                           The Shawshank Redemption   \n",
      "2         3      1996                                      Trainspotting   \n",
      "3         4      1996                                 The Usual Suspects   \n",
      "4         5      1996                                 The Wrong Trousers   \n",
      "5         6      1996                                      A Close Shave   \n",
      "6         7      1996                           Star Trek: First Contact   \n",
      "7         8      1996                                         Casablanca   \n",
      "8         9      1996                                       Blade Runner   \n",
      "9        10      1996                                   Schindler's List   \n",
      "10       11      1996                                       Citizen Kane   \n",
      "11       12      1996                                       Pulp Fiction   \n",
      "12       13      1996  Dr. Strangelove or: How I Learned to Stop Worr...   \n",
      "13       14      1996                                      The Godfather   \n",
      "14       15      1996                                The English Patient   \n",
      "15       16      1996                                         Braveheart   \n",
      "16       17      1996                                    Beautiful Thing   \n",
      "17       18      1996                                          Lone Star   \n",
      "18       19      1996                                          Toy Story   \n",
      "19       20      1996                    One Flew Over the Cuckoo's Nest   \n",
      "\n",
      "    Released  RunTime                         Genre  Rating    Votes   Gross  \\\n",
      "0       1977      121    Action, Adventure, Fantasy     8.6  1254781  322.74   \n",
      "1       1994      142                         Drama     9.3  2407245   28.34   \n",
      "2       1996       93                         Drama     8.1   645186   16.50   \n",
      "3       1995      106      Crime, Mystery, Thriller     8.5  1010775   23.34   \n",
      "4       1993       30      Animation, Short, Comedy     8.3    51747     NaN   \n",
      "5       1995       30      Animation, Short, Comedy     8.1    39406     NaN   \n",
      "6       1996      111      Action, Adventure, Drama     7.6   119638   92.00   \n",
      "7       1942      102           Drama, Romance, War     8.5   531981    1.02   \n",
      "8       1982      117      Action, Sci-Fi, Thriller     8.1   707666   32.87   \n",
      "9       1993      195     Biography, Drama, History     8.9  1240934   96.90   \n",
      "10      1941      119                Drama, Mystery     8.3   413723    1.59   \n",
      "11      1994      154                  Crime, Drama     8.9  1869802  107.93   \n",
      "12      1964       95                        Comedy     8.4   458817    0.28   \n",
      "13      1972      175                  Crime, Drama     9.2  1665926  134.97   \n",
      "14      1996      162           Drama, Romance, War     7.4   181801   78.65   \n",
      "15      1995      178     Biography, Drama, History     8.3   975406   75.60   \n",
      "16      1996       90        Comedy, Drama, Romance     7.6    23022    1.50   \n",
      "17      1996      135                Drama, Mystery     7.4    28386   13.27   \n",
      "18      1995       81  Animation, Adventure, Comedy     8.3   908147  191.80   \n",
      "19      1975      133                         Drama     8.7   936416  112.00   \n",
      "\n",
      "                Director  \n",
      "0           George Lucas  \n",
      "1         Frank Darabont  \n",
      "2            Danny Boyle  \n",
      "3           Bryan Singer  \n",
      "4              Nick Park  \n",
      "5              Nick Park  \n",
      "6        Jonathan Frakes  \n",
      "7         Michael Curtiz  \n",
      "8           Ridley Scott  \n",
      "9       Steven Spielberg  \n",
      "10          Orson Welles  \n",
      "11     Quentin Tarantino  \n",
      "12       Stanley Kubrick  \n",
      "13  Francis Ford Coppola  \n",
      "14     Anthony Minghella  \n",
      "15            Mel Gibson  \n",
      "16      Hettie Macdonald  \n",
      "17           John Sayles  \n",
      "18         John Lasseter  \n",
      "19          Milos Forman  \n"
     ]
    }
   ],
   "source": [
    "df.sort_values(by=['Rating'], ascending=False)\n",
    "pd.set_option('display.max_rows', 20)\n",
    "print(df.head (20))"
   ]
  },
  {
   "cell_type": "code",
   "execution_count": null,
   "metadata": {},
   "outputs": [],
   "source": []
  },
  {
   "cell_type": "code",
   "execution_count": 64,
   "metadata": {},
   "outputs": [
    {
     "data": {
      "text/html": [
       "<div>\n",
       "<style scoped>\n",
       "    .dataframe tbody tr th:only-of-type {\n",
       "        vertical-align: middle;\n",
       "    }\n",
       "\n",
       "    .dataframe tbody tr th {\n",
       "        vertical-align: top;\n",
       "    }\n",
       "\n",
       "    .dataframe thead th {\n",
       "        text-align: right;\n",
       "    }\n",
       "</style>\n",
       "<table border=\"1\" class=\"dataframe\">\n",
       "  <thead>\n",
       "    <tr style=\"text-align: right;\">\n",
       "      <th></th>\n",
       "      <th>Ranking</th>\n",
       "      <th>IMDB 250</th>\n",
       "      <th>Title</th>\n",
       "      <th>Released</th>\n",
       "      <th>RunTime</th>\n",
       "      <th>Genre</th>\n",
       "      <th>Rating</th>\n",
       "      <th>Votes</th>\n",
       "      <th>Gross</th>\n",
       "      <th>Director</th>\n",
       "    </tr>\n",
       "  </thead>\n",
       "  <tbody>\n",
       "    <tr>\n",
       "      <th>0</th>\n",
       "      <td>1</td>\n",
       "      <td>1996</td>\n",
       "      <td>Star Wars</td>\n",
       "      <td>1977</td>\n",
       "      <td>121</td>\n",
       "      <td>Action, Adventure, Fantasy</td>\n",
       "      <td>8.6</td>\n",
       "      <td>1254781</td>\n",
       "      <td>322.74</td>\n",
       "      <td>George Lucas</td>\n",
       "    </tr>\n",
       "    <tr>\n",
       "      <th>1</th>\n",
       "      <td>2</td>\n",
       "      <td>1996</td>\n",
       "      <td>The Shawshank Redemption</td>\n",
       "      <td>1994</td>\n",
       "      <td>142</td>\n",
       "      <td>Drama</td>\n",
       "      <td>9.3</td>\n",
       "      <td>2407245</td>\n",
       "      <td>28.34</td>\n",
       "      <td>Frank Darabont</td>\n",
       "    </tr>\n",
       "    <tr>\n",
       "      <th>2</th>\n",
       "      <td>3</td>\n",
       "      <td>1996</td>\n",
       "      <td>Trainspotting</td>\n",
       "      <td>1996</td>\n",
       "      <td>93</td>\n",
       "      <td>Drama</td>\n",
       "      <td>8.1</td>\n",
       "      <td>645186</td>\n",
       "      <td>16.50</td>\n",
       "      <td>Danny Boyle</td>\n",
       "    </tr>\n",
       "    <tr>\n",
       "      <th>3</th>\n",
       "      <td>4</td>\n",
       "      <td>1996</td>\n",
       "      <td>The Usual Suspects</td>\n",
       "      <td>1995</td>\n",
       "      <td>106</td>\n",
       "      <td>Crime, Mystery, Thriller</td>\n",
       "      <td>8.5</td>\n",
       "      <td>1010775</td>\n",
       "      <td>23.34</td>\n",
       "      <td>Bryan Singer</td>\n",
       "    </tr>\n",
       "    <tr>\n",
       "      <th>4</th>\n",
       "      <td>5</td>\n",
       "      <td>1996</td>\n",
       "      <td>The Wrong Trousers</td>\n",
       "      <td>1993</td>\n",
       "      <td>30</td>\n",
       "      <td>Animation, Short, Comedy</td>\n",
       "      <td>8.3</td>\n",
       "      <td>51747</td>\n",
       "      <td>NaN</td>\n",
       "      <td>Nick Park</td>\n",
       "    </tr>\n",
       "    <tr>\n",
       "      <th>...</th>\n",
       "      <td>...</td>\n",
       "      <td>...</td>\n",
       "      <td>...</td>\n",
       "      <td>...</td>\n",
       "      <td>...</td>\n",
       "      <td>...</td>\n",
       "      <td>...</td>\n",
       "      <td>...</td>\n",
       "      <td>...</td>\n",
       "      <td>...</td>\n",
       "    </tr>\n",
       "    <tr>\n",
       "      <th>6245</th>\n",
       "      <td>246</td>\n",
       "      <td>2020</td>\n",
       "      <td>The Help</td>\n",
       "      <td>2011</td>\n",
       "      <td>146</td>\n",
       "      <td>Drama</td>\n",
       "      <td>8.0</td>\n",
       "      <td>434956</td>\n",
       "      <td>169.71</td>\n",
       "      <td>Tate Taylor</td>\n",
       "    </tr>\n",
       "    <tr>\n",
       "      <th>6246</th>\n",
       "      <td>247</td>\n",
       "      <td>2020</td>\n",
       "      <td>The Princess Bride</td>\n",
       "      <td>1987</td>\n",
       "      <td>98</td>\n",
       "      <td>Adventure, Family, Fantasy</td>\n",
       "      <td>8.1</td>\n",
       "      <td>400081</td>\n",
       "      <td>30.86</td>\n",
       "      <td>Rob Reiner</td>\n",
       "    </tr>\n",
       "    <tr>\n",
       "      <th>6247</th>\n",
       "      <td>248</td>\n",
       "      <td>2020</td>\n",
       "      <td>La battaglia di Algeri</td>\n",
       "      <td>1966</td>\n",
       "      <td>121</td>\n",
       "      <td>Drama, War</td>\n",
       "      <td>8.1</td>\n",
       "      <td>54799</td>\n",
       "      <td>0.06</td>\n",
       "      <td>Gillo Pontecorvo</td>\n",
       "    </tr>\n",
       "    <tr>\n",
       "      <th>6248</th>\n",
       "      <td>249</td>\n",
       "      <td>2020</td>\n",
       "      <td>Mandariinid</td>\n",
       "      <td>2013</td>\n",
       "      <td>87</td>\n",
       "      <td>Drama, War</td>\n",
       "      <td>8.2</td>\n",
       "      <td>42748</td>\n",
       "      <td>0.14</td>\n",
       "      <td>Zaza Urushadze</td>\n",
       "    </tr>\n",
       "    <tr>\n",
       "      <th>6249</th>\n",
       "      <td>250</td>\n",
       "      <td>2020</td>\n",
       "      <td>Kis Uykusu</td>\n",
       "      <td>2014</td>\n",
       "      <td>196</td>\n",
       "      <td>Drama</td>\n",
       "      <td>8.1</td>\n",
       "      <td>48191</td>\n",
       "      <td>0.17</td>\n",
       "      <td>Nuri Bilge Ceylan</td>\n",
       "    </tr>\n",
       "  </tbody>\n",
       "</table>\n",
       "<p>6250 rows × 10 columns</p>\n",
       "</div>"
      ],
      "text/plain": [
       "      Ranking  IMDB 250                     Title  Released  RunTime  \\\n",
       "0           1      1996                 Star Wars      1977      121   \n",
       "1           2      1996  The Shawshank Redemption      1994      142   \n",
       "2           3      1996             Trainspotting      1996       93   \n",
       "3           4      1996        The Usual Suspects      1995      106   \n",
       "4           5      1996        The Wrong Trousers      1993       30   \n",
       "...       ...       ...                       ...       ...      ...   \n",
       "6245      246      2020                  The Help      2011      146   \n",
       "6246      247      2020        The Princess Bride      1987       98   \n",
       "6247      248      2020    La battaglia di Algeri      1966      121   \n",
       "6248      249      2020               Mandariinid      2013       87   \n",
       "6249      250      2020                Kis Uykusu      2014      196   \n",
       "\n",
       "                           Genre  Rating    Votes   Gross           Director  \n",
       "0     Action, Adventure, Fantasy     8.6  1254781  322.74       George Lucas  \n",
       "1                          Drama     9.3  2407245   28.34     Frank Darabont  \n",
       "2                          Drama     8.1   645186   16.50        Danny Boyle  \n",
       "3       Crime, Mystery, Thriller     8.5  1010775   23.34       Bryan Singer  \n",
       "4       Animation, Short, Comedy     8.3    51747     NaN          Nick Park  \n",
       "...                          ...     ...      ...     ...                ...  \n",
       "6245                       Drama     8.0   434956  169.71        Tate Taylor  \n",
       "6246  Adventure, Family, Fantasy     8.1   400081   30.86         Rob Reiner  \n",
       "6247                  Drama, War     8.1    54799    0.06   Gillo Pontecorvo  \n",
       "6248                  Drama, War     8.2    42748    0.14     Zaza Urushadze  \n",
       "6249                       Drama     8.1    48191    0.17  Nuri Bilge Ceylan  \n",
       "\n",
       "[6250 rows x 10 columns]"
      ]
     },
     "execution_count": 64,
     "metadata": {},
     "output_type": "execute_result"
    }
   ],
   "source": [
    "df"
   ]
  }
 ],
 "metadata": {
  "interpreter": {
   "hash": "dd57822eb7192f164bb646334b80cfe333ecd35ee68aedf0c6c5cce73267653a"
  },
  "kernelspec": {
   "display_name": "Python 3.9.7 64-bit",
   "language": "python",
   "name": "python3"
  },
  "language_info": {
   "codemirror_mode": {
    "name": "ipython",
    "version": 3
   },
   "file_extension": ".py",
   "mimetype": "text/x-python",
   "name": "python",
   "nbconvert_exporter": "python",
   "pygments_lexer": "ipython3",
   "version": "3.9.7"
  },
  "orig_nbformat": 4
 },
 "nbformat": 4,
 "nbformat_minor": 2
}
